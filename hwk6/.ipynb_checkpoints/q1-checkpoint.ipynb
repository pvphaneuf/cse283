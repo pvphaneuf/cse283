{
 "cells": [
  {
   "cell_type": "code",
   "execution_count": 9,
   "metadata": {
    "collapsed": true
   },
   "outputs": [],
   "source": [
    "from math import log2"
   ]
  },
  {
   "cell_type": "markdown",
   "metadata": {},
   "source": [
    "### Example given in the slides"
   ]
  },
  {
   "cell_type": "code",
   "execution_count": 10,
   "metadata": {
    "collapsed": false
   },
   "outputs": [
    {
     "data": {
      "text/plain": [
       "0.9709505944546686"
      ]
     },
     "execution_count": 10,
     "metadata": {},
     "output_type": "execute_result"
    }
   ],
   "source": [
    "-0.4*log2(0.4) + -0.6*log2(0.6)"
   ]
  },
  {
   "cell_type": "code",
   "execution_count": 11,
   "metadata": {
    "collapsed": false
   },
   "outputs": [
    {
     "data": {
      "text/plain": [
       "1.0"
      ]
     },
     "execution_count": 11,
     "metadata": {},
     "output_type": "execute_result"
    }
   ],
   "source": [
    "-0.5*log2(0.5) + -0.5*log2(0.5)"
   ]
  },
  {
   "cell_type": "markdown",
   "metadata": {},
   "source": [
    "### 1.a"
   ]
  },
  {
   "cell_type": "code",
   "execution_count": 14,
   "metadata": {
    "collapsed": false
   },
   "outputs": [
    {
     "name": "stdout",
     "output_type": "stream",
     "text": [
      "0.9798687566511528\n"
     ]
    }
   ],
   "source": [
    "H_a = -(5/12)*log2(5/12) + -(7/12)*log2(7/12)\n",
    "print(H_a)"
   ]
  },
  {
   "cell_type": "code",
   "execution_count": 17,
   "metadata": {
    "collapsed": false
   },
   "outputs": [
    {
     "name": "stdout",
     "output_type": "stream",
     "text": [
      "1.6258145836939115\n"
     ]
    }
   ],
   "source": [
    "H_a_b = -(1/12)*log2(1/12) + -(1/12)*log2(1/12) + -(6/12)*log2(6/12) + -(4/12)*log2(4/12)\n",
    "print(H_a_b)"
   ]
  },
  {
   "cell_type": "markdown",
   "metadata": {
    "collapsed": true
   },
   "source": [
    "### 1.b"
   ]
  },
  {
   "cell_type": "code",
   "execution_count": 19,
   "metadata": {
    "collapsed": false
   },
   "outputs": [
    {
     "name": "stdout",
     "output_type": "stream",
     "text": [
      "1.9591479170272446\n"
     ]
    }
   ],
   "source": [
    "H_a_c = -(3/12)*log2(3/12) + -(3/12)*log2(3/12) + -(2/12)*log2(2/12) + -(4/12)*log2(4/12)\n",
    "print(H_a_c)"
   ]
  },
  {
   "cell_type": "code",
   "execution_count": 20,
   "metadata": {
    "collapsed": false
   },
   "outputs": [
    {
     "name": "stdout",
     "output_type": "stream",
     "text": [
      "1.9591479170272446\n"
     ]
    }
   ],
   "source": [
    "H_a_d = -(3/12)*log2(3/12) + -(3/12)*log2(3/12) + -(2/12)*log2(2/12) + -(4/12)*log2(4/12)\n",
    "print(H_a_d)"
   ]
  },
  {
   "cell_type": "code",
   "execution_count": 21,
   "metadata": {
    "collapsed": false
   },
   "outputs": [
    {
     "name": "stdout",
     "output_type": "stream",
     "text": [
      "1.7295739585136223\n"
     ]
    }
   ],
   "source": [
    "H_b_c = -(3/12)*log2(3/12) + -(1/12)*log2(1/12) + -(2/12)*log2(2/12) + -(6/12)*log2(6/12)\n",
    "print(H_b_c)"
   ]
  },
  {
   "cell_type": "code",
   "execution_count": null,
   "metadata": {
    "collapsed": true
   },
   "outputs": [],
   "source": [
    "H_b_d = -(3/12)*log2(3/12) + -(1/12)*log2(1/12) + -(2/12)*log2(2/12) + -(6/12)*log2(6/12)\n",
    "print(H_b_d)"
   ]
  }
 ],
 "metadata": {
  "kernelspec": {
   "display_name": "Python 3",
   "language": "python",
   "name": "python3"
  },
  "language_info": {
   "codemirror_mode": {
    "name": "ipython",
    "version": 3
   },
   "file_extension": ".py",
   "mimetype": "text/x-python",
   "name": "python",
   "nbconvert_exporter": "python",
   "pygments_lexer": "ipython3",
   "version": "3.5.1"
  }
 },
 "nbformat": 4,
 "nbformat_minor": 0
}
