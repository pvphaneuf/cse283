{
 "cells": [
  {
   "cell_type": "code",
   "execution_count": 29,
   "metadata": {
    "collapsed": true
   },
   "outputs": [],
   "source": [
    "from math import log2"
   ]
  },
  {
   "cell_type": "markdown",
   "metadata": {},
   "source": [
    "### Example given in the slides"
   ]
  },
  {
   "cell_type": "code",
   "execution_count": 30,
   "metadata": {
    "collapsed": false
   },
   "outputs": [
    {
     "data": {
      "text/plain": [
       "0.9709505944546686"
      ]
     },
     "execution_count": 30,
     "metadata": {},
     "output_type": "execute_result"
    }
   ],
   "source": [
    "-0.4*log2(0.4) + -0.6*log2(0.6)"
   ]
  },
  {
   "cell_type": "code",
   "execution_count": 31,
   "metadata": {
    "collapsed": false
   },
   "outputs": [
    {
     "data": {
      "text/plain": [
       "1.0"
      ]
     },
     "execution_count": 31,
     "metadata": {},
     "output_type": "execute_result"
    }
   ],
   "source": [
    "-0.5*log2(0.5) + -0.5*log2(0.5)"
   ]
  },
  {
   "cell_type": "markdown",
   "metadata": {},
   "source": [
    "### 1.a"
   ]
  },
  {
   "cell_type": "code",
   "execution_count": 32,
   "metadata": {
    "collapsed": false
   },
   "outputs": [
    {
     "name": "stdout",
     "output_type": "stream",
     "text": [
      "0.9798687566511528\n"
     ]
    }
   ],
   "source": [
    "H_a = -(5/12)*log2(5/12) + -(7/12)*log2(7/12)\n",
    "print(H_a)"
   ]
  },
  {
   "cell_type": "code",
   "execution_count": 33,
   "metadata": {
    "collapsed": false
   },
   "outputs": [
    {
     "name": "stdout",
     "output_type": "stream",
     "text": [
      "1.6258145836939115\n"
     ]
    }
   ],
   "source": [
    "H_a_b = -(1/12)*log2(1/12) + -(1/12)*log2(1/12) + -(6/12)*log2(6/12) + -(4/12)*log2(4/12)\n",
    "print(H_a_b)"
   ]
  },
  {
   "cell_type": "markdown",
   "metadata": {
    "collapsed": true
   },
   "source": [
    "### 1.b"
   ]
  },
  {
   "cell_type": "code",
   "execution_count": 19,
   "metadata": {
    "collapsed": false
   },
   "outputs": [
    {
     "name": "stdout",
     "output_type": "stream",
     "text": [
      "1.9591479170272446\n"
     ]
    }
   ],
   "source": [
    "H_a_c = -(3/12)*log2(3/12) + -(3/12)*log2(3/12) + -(2/12)*log2(2/12) + -(4/12)*log2(4/12)\n",
    "print(H_a_c)"
   ]
  },
  {
   "cell_type": "code",
   "execution_count": 20,
   "metadata": {
    "collapsed": false
   },
   "outputs": [
    {
     "name": "stdout",
     "output_type": "stream",
     "text": [
      "1.9591479170272446\n"
     ]
    }
   ],
   "source": [
    "H_a_d = -(3/12)*log2(3/12) + -(3/12)*log2(3/12) + -(2/12)*log2(2/12) + -(4/12)*log2(4/12)\n",
    "print(H_a_d)"
   ]
  },
  {
   "cell_type": "code",
   "execution_count": 21,
   "metadata": {
    "collapsed": false
   },
   "outputs": [
    {
     "name": "stdout",
     "output_type": "stream",
     "text": [
      "1.7295739585136223\n"
     ]
    }
   ],
   "source": [
    "H_b_c = -(3/12)*log2(3/12) + -(1/12)*log2(1/12) + -(2/12)*log2(2/12) + -(6/12)*log2(6/12)\n",
    "print(H_b_c)"
   ]
  },
  {
   "cell_type": "code",
   "execution_count": 22,
   "metadata": {
    "collapsed": false
   },
   "outputs": [
    {
     "name": "stdout",
     "output_type": "stream",
     "text": [
      "1.8879185026711327\n"
     ]
    }
   ],
   "source": [
    "H_b_d = -(3/12)*log2(3/12) + -(2/12)*log2(2/12) + -(2/12)*log2(2/12) + -(5/12)*log2(5/12)\n",
    "print(H_b_d)"
   ]
  },
  {
   "cell_type": "code",
   "execution_count": 24,
   "metadata": {
    "collapsed": false
   },
   "outputs": [
    {
     "name": "stdout",
     "output_type": "stream",
     "text": [
      "1.280672129520887\n"
     ]
    }
   ],
   "source": [
    "H_c_d = -(7/12)*log2(7/12) + -(1/12)*log2(1/12) + -(4/12)*log2(4/12)\n",
    "print(H_c_d)"
   ]
  },
  {
   "cell_type": "code",
   "execution_count": 25,
   "metadata": {
    "collapsed": false
   },
   "outputs": [
    {
     "name": "stdout",
     "output_type": "stream",
     "text": [
      "0.9798687566511528\n"
     ]
    }
   ],
   "source": [
    "H_b = -(5/12)*log2(5/12) + -(7/12)*log2(7/12)\n",
    "print(H_b)"
   ]
  },
  {
   "cell_type": "code",
   "execution_count": 26,
   "metadata": {
    "collapsed": false
   },
   "outputs": [
    {
     "name": "stdout",
     "output_type": "stream",
     "text": [
      "0.9182958340544896\n"
     ]
    }
   ],
   "source": [
    "H_c = -(8/12)*log2(8/12) + -(4/12)*log2(4/12)\n",
    "print(H_c)"
   ]
  },
  {
   "cell_type": "code",
   "execution_count": 27,
   "metadata": {
    "collapsed": false
   },
   "outputs": [
    {
     "name": "stdout",
     "output_type": "stream",
     "text": [
      "0.9798687566511528\n"
     ]
    }
   ],
   "source": [
    "H_d = -(5/12)*log2(5/12) + -(7/12)*log2(7/12)\n",
    "print(H_d)"
   ]
  },
  {
   "cell_type": "code",
   "execution_count": 34,
   "metadata": {
    "collapsed": false
   },
   "outputs": [
    {
     "name": "stdout",
     "output_type": "stream",
     "text": [
      "0.3339229296083941\n"
     ]
    }
   ],
   "source": [
    "M_a_b = H_a + H_b - H_a_b\n",
    "print(M_a_b)"
   ]
  },
  {
   "cell_type": "code",
   "execution_count": 35,
   "metadata": {
    "collapsed": false
   },
   "outputs": [
    {
     "name": "stdout",
     "output_type": "stream",
     "text": [
      "-0.060983326321602194\n"
     ]
    }
   ],
   "source": [
    "M_a_c = H_a + H_c - H_a_c\n",
    "print(M_a_c)"
   ]
  },
  {
   "cell_type": "code",
   "execution_count": 37,
   "metadata": {
    "collapsed": false
   },
   "outputs": [
    {
     "name": "stdout",
     "output_type": "stream",
     "text": [
      "0.000589596275061055\n"
     ]
    }
   ],
   "source": [
    "M_a_d = H_a + H_d - H_a_d\n",
    "print(M_a_d)"
   ]
  },
  {
   "cell_type": "code",
   "execution_count": 38,
   "metadata": {
    "collapsed": false
   },
   "outputs": [
    {
     "name": "stdout",
     "output_type": "stream",
     "text": [
      "0.16859063219202008\n"
     ]
    }
   ],
   "source": [
    "M_b_c = H_b + H_c - H_b_c\n",
    "print(M_b_c)"
   ]
  },
  {
   "cell_type": "code",
   "execution_count": 39,
   "metadata": {
    "collapsed": false
   },
   "outputs": [
    {
     "name": "stdout",
     "output_type": "stream",
     "text": [
      "0.07181901063117291\n"
     ]
    }
   ],
   "source": [
    "M_b_d = H_b + H_d - H_b_d\n",
    "print(M_b_d)"
   ]
  },
  {
   "cell_type": "code",
   "execution_count": 40,
   "metadata": {
    "collapsed": false
   },
   "outputs": [
    {
     "name": "stdout",
     "output_type": "stream",
     "text": [
      "0.6174924611847554\n"
     ]
    }
   ],
   "source": [
    "M_c_d = H_c + H_d - H_c_d\n",
    "print(M_c_d)"
   ]
  },
  {
   "cell_type": "code",
   "execution_count": null,
   "metadata": {
    "collapsed": true
   },
   "outputs": [],
   "source": []
  }
 ],
 "metadata": {
  "kernelspec": {
   "display_name": "Python 3",
   "language": "python",
   "name": "python3"
  },
  "language_info": {
   "codemirror_mode": {
    "name": "ipython",
    "version": 3
   },
   "file_extension": ".py",
   "mimetype": "text/x-python",
   "name": "python",
   "nbconvert_exporter": "python",
   "pygments_lexer": "ipython3",
   "version": "3.5.1"
  }
 },
 "nbformat": 4,
 "nbformat_minor": 0
}
