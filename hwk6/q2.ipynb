{
 "cells": [
  {
   "cell_type": "code",
   "execution_count": 1,
   "metadata": {
    "collapsed": true
   },
   "outputs": [],
   "source": [
    "import networkx as nx"
   ]
  },
  {
   "cell_type": "code",
   "execution_count": 2,
   "metadata": {
    "collapsed": true
   },
   "outputs": [],
   "source": [
    "G=nx.Graph()\n",
    "G.add_nodes_from([1,2,3,4,5,6])\n",
    "G.add_edges_from([(1,2),(2,4),(1,4),(4,6),(6,3),(6,5),(5,3)])"
   ]
  },
  {
   "cell_type": "code",
   "execution_count": 13,
   "metadata": {
    "collapsed": false
   },
   "outputs": [
    {
     "data": {
      "text/plain": [
       "{(1, 2): 1.0,\n",
       " (1, 4): 4.0,\n",
       " (2, 4): 4.0,\n",
       " (3, 5): 1.0,\n",
       " (3, 6): 4.0,\n",
       " (4, 6): 9.0,\n",
       " (5, 6): 4.0}"
      ]
     },
     "execution_count": 13,
     "metadata": {},
     "output_type": "execute_result"
    }
   ],
   "source": [
    "nx.betweenness.edge_betweenness(G, normalized=False)"
   ]
  },
  {
   "cell_type": "code",
   "execution_count": 16,
   "metadata": {
    "collapsed": false
   },
   "outputs": [
    {
     "name": "stdout",
     "output_type": "stream",
     "text": [
      "[1, 4, 6, 3]\n",
      "[1, 4, 6, 5]\n",
      "[1, 4, 6]\n",
      "[2, 4, 6, 3]\n",
      "[2, 4, 6, 5]\n",
      "[2, 4, 6]\n",
      "[4, 6, 3]\n",
      "[4, 6, 5]\n",
      "[4, 6]\n"
     ]
    }
   ],
   "source": [
    "cluster_1_list = [1,2,4]\n",
    "cluster_2_list = [3,5,6]\n",
    "for node1 in cluster_1_list:\n",
    "    for node2 in cluster_2_list:\n",
    "        print(nx.shortest_path(G,source=node1,target=node2))"
   ]
  }
 ],
 "metadata": {
  "kernelspec": {
   "display_name": "Python 3",
   "language": "python",
   "name": "python3"
  },
  "language_info": {
   "codemirror_mode": {
    "name": "ipython",
    "version": 3
   },
   "file_extension": ".py",
   "mimetype": "text/x-python",
   "name": "python",
   "nbconvert_exporter": "python",
   "pygments_lexer": "ipython3",
   "version": "3.5.1"
  }
 },
 "nbformat": 4,
 "nbformat_minor": 0
}
