{
 "cells": [
  {
   "cell_type": "code",
   "execution_count": 1,
   "metadata": {
    "collapsed": true
   },
   "outputs": [],
   "source": [
    "import pandas as pd\n",
    "import numpy as np\n",
    "import math"
   ]
  },
  {
   "cell_type": "code",
   "execution_count": 2,
   "metadata": {
    "collapsed": false,
    "scrolled": false
   },
   "outputs": [],
   "source": [
    "# trunc_illuminaga_rna_data has the same illuminaga RNA expression data as that downloaded from \n",
    "# class project website, though the keys in the header of trunc_illuminaga_rna_data.tsv now match\n",
    "# patient.bcr_patient_barcode from the clinical data, which gives use better mapping between the\n",
    "# clinical patients dataset and the RNA dataset.\n",
    "gene_exp = pd.read_table('data/trunc_combined_rna_data.tsv',\n",
    "                                     header=0,\n",
    "                                     index_col=0)"
   ]
  },
  {
   "cell_type": "markdown",
   "metadata": {},
   "source": [
    "## Preprocessing"
   ]
  },
  {
   "cell_type": "markdown",
   "metadata": {},
   "source": [
    "###  Normalize by taking log of FPKM expression values."
   ]
  },
  {
   "cell_type": "code",
   "execution_count": 3,
   "metadata": {
    "collapsed": false
   },
   "outputs": [],
   "source": [
    "log_gene_exp_df = np.log(gene_exp.copy())"
   ]
  },
  {
   "cell_type": "markdown",
   "metadata": {},
   "source": [
    "### Replace all -inf with the smallest logFPKM integral, so that we don't get weird results with the variance."
   ]
  },
  {
   "cell_type": "code",
   "execution_count": 4,
   "metadata": {
    "collapsed": false
   },
   "outputs": [],
   "source": [
    "log_gene_exp_df.replace([np.inf, -np.inf], np.nan, inplace=True)  # must replace all -inf with NaN so that .min() will work.\n",
    "min_fpkm_per_patient = list(log_gene_exp_df.min())\n",
    "min_fpkm = min(min_fpkm_per_patient)\n",
    "fpkm_floor = math.floor(min_fpkm)\n",
    "log_gene_exp_df.replace(np.nan, fpkm_floor, inplace=True)"
   ]
  },
  {
   "cell_type": "markdown",
   "metadata": {},
   "source": [
    "### Take top 10000 genes with highest variance"
   ]
  },
  {
   "cell_type": "code",
   "execution_count": 5,
   "metadata": {
    "collapsed": false
   },
   "outputs": [],
   "source": [
    "log_gene_exp_var_df = log_gene_exp_df.copy()\n",
    "log_gene_exp_var_df['var'] = log_gene_exp_var_df.var(axis=1)\n",
    "filtered_log_gene_exp = log_gene_exp_var_df.sort_values(by='var', ascending=False)[:10000]\n",
    "filtered_log_gene_exp = filtered_log_gene_exp.ix[:, :-1]  # Remove variance column"
   ]
  },
  {
   "cell_type": "markdown",
   "metadata": {},
   "source": [
    "## Formatting Data"
   ]
  },
  {
   "cell_type": "markdown",
   "metadata": {},
   "source": [
    "### Get features and labels"
   ]
  },
  {
   "cell_type": "markdown",
   "metadata": {},
   "source": [
    "#### NOTE: mRNA data patients are a subset of those included in COADREAD.clin.merged.txt"
   ]
  },
  {
   "cell_type": "code",
   "execution_count": 6,
   "metadata": {
    "collapsed": false,
    "scrolled": true
   },
   "outputs": [],
   "source": [
    "clinical_data_df = pd.read_table('data/clinical/COADREAD.clin.merged.txt', index_col=0)"
   ]
  },
  {
   "cell_type": "code",
   "execution_count": 7,
   "metadata": {
    "collapsed": false
   },
   "outputs": [
    {
     "name": "stdout",
     "output_type": "stream",
     "text": [
      "4\n"
     ]
    }
   ],
   "source": [
    "# Don't try to print all contents of patient_dict; too big! Will freeze browser.\n",
    "patient_dict = {}\n",
    "patient_dict['colon'] = {}\n",
    "patient_dict['rectum'] = {}\n",
    "\n",
    "tumor_tissue_site_nan_count = 0\n",
    "patient_rna_exp_barcode_nan_count = 0\n",
    "patient_rna_exp_barcode_not_in_rna_dataset_count = 0\n",
    "\n",
    "column_header_list = list(clinical_data_df.columns.values)\n",
    "for column_header in column_header_list:\n",
    "\n",
    "    tumor_tissue_site = str(clinical_data_df.loc[\"patient.tumor_tissue_site\"][column_header])\n",
    "    if tumor_tissue_site != \"nan\":  # We only want patients which have a label.\n",
    "        \n",
    "        bcr_patient_barcode = clinical_data_df.loc[\"patient.bcr_patient_barcode\"][column_header]\n",
    "        bcr_patient_barcode = bcr_patient_barcode.upper()\n",
    "        \n",
    "        if bcr_patient_barcode in filtered_log_gene_exp.keys():\n",
    "            patient_exp_list = list(filtered_log_gene_exp[bcr_patient_barcode])\n",
    "            patient_dict[tumor_tissue_site][bcr_patient_barcode] = patient_exp_list\n",
    "            \n",
    "    # investigating quality of my data mapping\n",
    "    else:\n",
    "        tumor_tissue_site_nan_count += 1\n",
    "\n",
    "print(tumor_tissue_site_nan_count)"
   ]
  },
  {
   "cell_type": "markdown",
   "metadata": {},
   "source": [
    "#### Balancing training set between colon and rectum tissue."
   ]
  },
  {
   "cell_type": "code",
   "execution_count": 8,
   "metadata": {
    "collapsed": false
   },
   "outputs": [
    {
     "name": "stdout",
     "output_type": "stream",
     "text": [
      "164\n",
      "454\n"
     ]
    }
   ],
   "source": [
    "print(len(patient_dict['rectum']))\n",
    "print(len(patient_dict['colon']))"
   ]
  },
  {
   "cell_type": "code",
   "execution_count": 34,
   "metadata": {
    "collapsed": false
   },
   "outputs": [
    {
     "data": {
      "text/plain": [
       "618"
      ]
     },
     "execution_count": 34,
     "metadata": {},
     "output_type": "execute_result"
    }
   ],
   "source": [
    "454+164"
   ]
  },
  {
   "cell_type": "code",
   "execution_count": 9,
   "metadata": {
    "collapsed": false
   },
   "outputs": [
    {
     "name": "stdout",
     "output_type": "stream",
     "text": [
      "200\n",
      "200\n",
      "418\n",
      "418\n"
     ]
    }
   ],
   "source": [
    "rectum_dict = patient_dict['rectum']\n",
    "\n",
    "training_patient_list = list(rectum_dict.keys())[:100]\n",
    "testing_patient_list = list(rectum_dict.keys())[100:]\n",
    "\n",
    "training_feature_list = list(rectum_dict.values())[:100]\n",
    "training_label_list = ['rectum' ] * len(training_feature_list)\n",
    "\n",
    "testing_feature_list = list(rectum_dict.values())[100:]\n",
    "testing_label_list = ['rectum'] * len(testing_feature_list)\n",
    "\n",
    "\n",
    "colon_dict = patient_dict['colon']\n",
    "\n",
    "training_patient_list += list(colon_dict.keys())[:100]\n",
    "testing_patient_list += list(colon_dict.keys())[100:]\n",
    "\n",
    "training_feature_list += list(colon_dict.values())[:100]\n",
    "training_label_list += ['colon' ] * len(list(colon_dict.values())[:100])\n",
    "\n",
    "testing_feature_list += list(colon_dict.values())[100:]\n",
    "testing_label_list += ['colon'] * len(list(colon_dict.values())[100:])\n",
    "\n",
    "print(len(training_feature_list))\n",
    "print(len(training_patient_list))\n",
    "\n",
    "print(len(testing_feature_list))\n",
    "print(len(testing_patient_list))"
   ]
  },
  {
   "cell_type": "markdown",
   "metadata": {
    "collapsed": true
   },
   "source": [
    "## Classification"
   ]
  },
  {
   "cell_type": "code",
   "execution_count": 10,
   "metadata": {
    "collapsed": true
   },
   "outputs": [],
   "source": [
    "from sklearn.svm import SVC"
   ]
  },
  {
   "cell_type": "code",
   "execution_count": 11,
   "metadata": {
    "collapsed": false
   },
   "outputs": [
    {
     "data": {
      "text/plain": [
       "SVC(C=1.0, cache_size=200, class_weight=None, coef0=0.0,\n",
       "  decision_function_shape=None, degree=3, gamma='auto', kernel='rbf',\n",
       "  max_iter=-1, probability=False, random_state=None, shrinking=True,\n",
       "  tol=0.001, verbose=False)"
      ]
     },
     "execution_count": 11,
     "metadata": {},
     "output_type": "execute_result"
    }
   ],
   "source": [
    "svm_classifier = SVC()\n",
    "svm_classifier.fit(training_feature_list, training_label_list)"
   ]
  },
  {
   "cell_type": "code",
   "execution_count": 12,
   "metadata": {
    "collapsed": true
   },
   "outputs": [],
   "source": [
    "training_predictions = svm_classifier.predict(training_feature_list)\n",
    "testing_predictions = svm_classifier.predict(testing_feature_list)"
   ]
  },
  {
   "cell_type": "code",
   "execution_count": 13,
   "metadata": {
    "collapsed": false
   },
   "outputs": [],
   "source": [
    "# We don't want all predictions to simply be the same. We want variety in our predictions.\n",
    "# testing_predictions"
   ]
  },
  {
   "cell_type": "code",
   "execution_count": 14,
   "metadata": {
    "collapsed": false
   },
   "outputs": [],
   "source": [
    "# np.array(testing_label_list)"
   ]
  },
  {
   "cell_type": "markdown",
   "metadata": {},
   "source": [
    "### Output Classification to TSV"
   ]
  },
  {
   "cell_type": "code",
   "execution_count": 15,
   "metadata": {
    "collapsed": false
   },
   "outputs": [],
   "source": [
    "patient_list = training_patient_list + testing_patient_list\n",
    "prediction_list = list(training_predictions) + list(testing_predictions)\n",
    "\n",
    "output_tsv_df = pd.DataFrame(np.array([prediction_list]), columns=patient_list)"
   ]
  },
  {
   "cell_type": "code",
   "execution_count": 33,
   "metadata": {
    "collapsed": false
   },
   "outputs": [],
   "source": [
    "# output_tsv_df.to_csv('data/both_patient_classification.tsv', sep='\\t')"
   ]
  },
  {
   "cell_type": "markdown",
   "metadata": {},
   "source": [
    "### Investigate Classification Statistics"
   ]
  },
  {
   "cell_type": "code",
   "execution_count": 17,
   "metadata": {
    "collapsed": true
   },
   "outputs": [],
   "source": [
    "from sklearn import metrics"
   ]
  },
  {
   "cell_type": "code",
   "execution_count": 18,
   "metadata": {
    "collapsed": false
   },
   "outputs": [
    {
     "data": {
      "text/plain": [
       "0.71770334928229662"
      ]
     },
     "execution_count": 18,
     "metadata": {},
     "output_type": "execute_result"
    }
   ],
   "source": [
    "metrics.accuracy_score(testing_label_list, testing_predictions)"
   ]
  },
  {
   "cell_type": "code",
   "execution_count": 19,
   "metadata": {
    "collapsed": true
   },
   "outputs": [],
   "source": [
    "# Essentially returns the Recall\n",
    "def get_class_accuracy(class_name, label_list, predictions):\n",
    "    correct_prediction_count = 0\n",
    "    class_count = 0\n",
    "    for index in range(0, len(label_list)):\n",
    "        if label_list[index] == class_name:\n",
    "            class_count += 1\n",
    "            if predictions[index] == label_list[index]:\n",
    "                correct_prediction_count += 1    \n",
    "    return correct_prediction_count/class_count"
   ]
  },
  {
   "cell_type": "code",
   "execution_count": 20,
   "metadata": {
    "collapsed": false
   },
   "outputs": [
    {
     "data": {
      "text/plain": [
       "0.578125"
      ]
     },
     "execution_count": 20,
     "metadata": {},
     "output_type": "execute_result"
    }
   ],
   "source": [
    "get_class_accuracy('rectum', testing_label_list, testing_predictions)"
   ]
  },
  {
   "cell_type": "code",
   "execution_count": 21,
   "metadata": {
    "collapsed": false
   },
   "outputs": [
    {
     "data": {
      "text/plain": [
       "0.7429378531073446"
      ]
     },
     "execution_count": 21,
     "metadata": {},
     "output_type": "execute_result"
    }
   ],
   "source": [
    "get_class_accuracy('colon', testing_label_list, testing_predictions)"
   ]
  },
  {
   "cell_type": "code",
   "execution_count": 22,
   "metadata": {
    "collapsed": true
   },
   "outputs": [],
   "source": [
    "# Essentially returns the True Prediction Rate.\n",
    "def get_average_per_class_accuracy(testing_label_list, testing_predictions):\n",
    "    rectum_acc = get_class_accuracy('rectum', testing_label_list, testing_predictions)\n",
    "    colon_acc = get_class_accuracy('colon', testing_label_list, testing_predictions)\n",
    "    return (rectum_acc + colon_acc) / 2"
   ]
  },
  {
   "cell_type": "code",
   "execution_count": 23,
   "metadata": {
    "collapsed": false
   },
   "outputs": [
    {
     "data": {
      "text/plain": [
       "0.6605314265536724"
      ]
     },
     "execution_count": 23,
     "metadata": {},
     "output_type": "execute_result"
    }
   ],
   "source": [
    "get_average_per_class_accuracy(testing_label_list, testing_predictions)"
   ]
  },
  {
   "cell_type": "code",
   "execution_count": 24,
   "metadata": {
    "collapsed": true
   },
   "outputs": [],
   "source": [
    "def get_recall(class_name, y_true, y_pred):\n",
    "    bin_y_true = [1 if label == class_name else 0 for label in y_true]\n",
    "    bin_y_pred = [1 if label == class_name else 0 for label in y_pred]\n",
    "    return metrics.recall_score(bin_y_true, bin_y_pred)"
   ]
  },
  {
   "cell_type": "code",
   "execution_count": 25,
   "metadata": {
    "collapsed": false
   },
   "outputs": [
    {
     "name": "stdout",
     "output_type": "stream",
     "text": [
      "0.578125\n"
     ]
    }
   ],
   "source": [
    "rectum_true_prediction_rate = get_recall('rectum', testing_label_list, testing_predictions)\n",
    "print(rectum_true_prediction_rate)"
   ]
  },
  {
   "cell_type": "code",
   "execution_count": 26,
   "metadata": {
    "collapsed": false
   },
   "outputs": [
    {
     "name": "stdout",
     "output_type": "stream",
     "text": [
      "0.742937853107\n"
     ]
    }
   ],
   "source": [
    "colon_true_prediction_rate = get_recall('colon', testing_label_list, testing_predictions)\n",
    "print(colon_true_prediction_rate)"
   ]
  },
  {
   "cell_type": "code",
   "execution_count": 27,
   "metadata": {
    "collapsed": true
   },
   "outputs": [],
   "source": [
    "def get_precision(class_name, y_true, y_pred):\n",
    "    bin_y_true = [1 if label == class_name else 0 for label in y_true]\n",
    "    bin_y_pred = [1 if label == class_name else 0 for label in y_pred]\n",
    "    return metrics.precision_score(bin_y_true, bin_y_pred)"
   ]
  },
  {
   "cell_type": "code",
   "execution_count": 28,
   "metadata": {
    "collapsed": false
   },
   "outputs": [
    {
     "name": "stdout",
     "output_type": "stream",
     "text": [
      "0.2890625\n"
     ]
    }
   ],
   "source": [
    "rectum_precision = get_precision('rectum', testing_label_list, testing_predictions)\n",
    "print(rectum_precision)"
   ]
  },
  {
   "cell_type": "code",
   "execution_count": 29,
   "metadata": {
    "collapsed": false
   },
   "outputs": [
    {
     "name": "stdout",
     "output_type": "stream",
     "text": [
      "0.906896551724\n"
     ]
    }
   ],
   "source": [
    "colon_precision = get_precision('colon', testing_label_list, testing_predictions)\n",
    "print(colon_precision)"
   ]
  },
  {
   "cell_type": "code",
   "execution_count": 30,
   "metadata": {
    "collapsed": false
   },
   "outputs": [
    {
     "name": "stdout",
     "output_type": "stream",
     "text": [
      "0.339468573446\n"
     ]
    }
   ],
   "source": [
    "# Balanced Error Rate (BER)\n",
    "rectum_false_prediction_rate = 1 - rectum_true_prediction_rate\n",
    "colon_false_prediction_rate = 1 - colon_true_prediction_rate\n",
    "print(0.5 * (rectum_false_prediction_rate + colon_false_prediction_rate))"
   ]
  },
  {
   "cell_type": "markdown",
   "metadata": {
    "collapsed": true
   },
   "source": [
    "### BER of 0.5 would for coin flipping classifier; 0.399 means that our classifier is a bit better."
   ]
  },
  {
   "cell_type": "code",
   "execution_count": 31,
   "metadata": {
    "collapsed": false
   },
   "outputs": [
    {
     "name": "stdout",
     "output_type": "stream",
     "text": [
      "0.385416666667\n"
     ]
    }
   ],
   "source": [
    "# Harmonic mean\n",
    "rectum_F1_score = 2 * (rectum_precision*rectum_true_prediction_rate)/(rectum_precision+rectum_true_prediction_rate)\n",
    "print(rectum_F1_score)"
   ]
  },
  {
   "cell_type": "code",
   "execution_count": 32,
   "metadata": {
    "collapsed": false
   },
   "outputs": [
    {
     "name": "stdout",
     "output_type": "stream",
     "text": [
      "0.816770186335\n"
     ]
    }
   ],
   "source": [
    "# Harmonic mean\n",
    "colon_F1_score = 2 * (colon_precision*colon_true_prediction_rate)/(colon_precision+colon_true_prediction_rate)\n",
    "print(colon_F1_score)"
   ]
  },
  {
   "cell_type": "code",
   "execution_count": null,
   "metadata": {
    "collapsed": true
   },
   "outputs": [],
   "source": []
  },
  {
   "cell_type": "code",
   "execution_count": null,
   "metadata": {
    "collapsed": true
   },
   "outputs": [],
   "source": []
  }
 ],
 "metadata": {
  "kernelspec": {
   "display_name": "Python 3",
   "language": "python",
   "name": "python3"
  },
  "language_info": {
   "codemirror_mode": {
    "name": "ipython",
    "version": 3
   },
   "file_extension": ".py",
   "mimetype": "text/x-python",
   "name": "python",
   "nbconvert_exporter": "python",
   "pygments_lexer": "ipython3",
   "version": "3.5.1"
  }
 },
 "nbformat": 4,
 "nbformat_minor": 0
}
