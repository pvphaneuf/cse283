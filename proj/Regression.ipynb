{
 "cells": [
  {
   "cell_type": "code",
   "execution_count": 248,
   "metadata": {
    "collapsed": false
   },
   "outputs": [],
   "source": [
    "import pandas as pd\n",
    "from sklearn import ensemble\n",
    "import numpy as np\n",
    "import seaborn as sns\n",
    "from collections import Counter\n",
    "%matplotlib inline"
   ]
  },
  {
   "cell_type": "markdown",
   "metadata": {},
   "source": [
    "### Set up data"
   ]
  },
  {
   "cell_type": "code",
   "execution_count": 151,
   "metadata": {
    "collapsed": false
   },
   "outputs": [
    {
     "data": {
      "text/html": [
       "<div>\n",
       "<table border=\"1\" class=\"dataframe\">\n",
       "  <thead>\n",
       "    <tr style=\"text-align: right;\">\n",
       "      <th></th>\n",
       "      <th>tcga-3l-aa1b</th>\n",
       "      <th>tcga-4n-a93t</th>\n",
       "      <th>tcga-4t-aa8h</th>\n",
       "      <th>tcga-5m-aat5</th>\n",
       "      <th>tcga-5m-aat6</th>\n",
       "      <th>tcga-5m-aata</th>\n",
       "      <th>tcga-a6-2671</th>\n",
       "      <th>tcga-a6-2672</th>\n",
       "      <th>tcga-a6-2676</th>\n",
       "      <th>tcga-a6-2677</th>\n",
       "      <th>...</th>\n",
       "      <th>tcga-f5-6811</th>\n",
       "      <th>tcga-f5-6812</th>\n",
       "      <th>tcga-f5-6813</th>\n",
       "      <th>tcga-f5-6861</th>\n",
       "      <th>tcga-f5-6863</th>\n",
       "      <th>tcga-f5-6864</th>\n",
       "      <th>tcga-g5-6233</th>\n",
       "      <th>tcga-g5-6235</th>\n",
       "      <th>tcga-g5-6572</th>\n",
       "      <th>tcga-g5-6641</th>\n",
       "    </tr>\n",
       "    <tr>\n",
       "      <th>Sample REF</th>\n",
       "      <th></th>\n",
       "      <th></th>\n",
       "      <th></th>\n",
       "      <th></th>\n",
       "      <th></th>\n",
       "      <th></th>\n",
       "      <th></th>\n",
       "      <th></th>\n",
       "      <th></th>\n",
       "      <th></th>\n",
       "      <th></th>\n",
       "      <th></th>\n",
       "      <th></th>\n",
       "      <th></th>\n",
       "      <th></th>\n",
       "      <th></th>\n",
       "      <th></th>\n",
       "      <th></th>\n",
       "      <th></th>\n",
       "      <th></th>\n",
       "      <th></th>\n",
       "    </tr>\n",
       "  </thead>\n",
       "  <tbody>\n",
       "    <tr>\n",
       "      <th>14-3-3_beta</th>\n",
       "      <td>-0.080528</td>\n",
       "      <td>-0.157540</td>\n",
       "      <td>-0.384060</td>\n",
       "      <td>-0.087426</td>\n",
       "      <td>-0.275405</td>\n",
       "      <td>-0.224685</td>\n",
       "      <td>-0.079293</td>\n",
       "      <td>-0.336623</td>\n",
       "      <td>-0.187790</td>\n",
       "      <td>-0.235185</td>\n",
       "      <td>...</td>\n",
       "      <td>-0.024839</td>\n",
       "      <td>0.632183</td>\n",
       "      <td>-0.237272</td>\n",
       "      <td>-0.023691</td>\n",
       "      <td>0.410173</td>\n",
       "      <td>0.157596</td>\n",
       "      <td>0.487429</td>\n",
       "      <td>0.052631</td>\n",
       "      <td>0.137889</td>\n",
       "      <td>0.044996</td>\n",
       "    </tr>\n",
       "    <tr>\n",
       "      <th>14-3-3_epsilon</th>\n",
       "      <td>0.055408</td>\n",
       "      <td>0.059789</td>\n",
       "      <td>0.162856</td>\n",
       "      <td>-0.152768</td>\n",
       "      <td>-0.041336</td>\n",
       "      <td>-0.075951</td>\n",
       "      <td>-0.028777</td>\n",
       "      <td>-0.475157</td>\n",
       "      <td>-0.111809</td>\n",
       "      <td>-0.494886</td>\n",
       "      <td>...</td>\n",
       "      <td>0.049617</td>\n",
       "      <td>0.176068</td>\n",
       "      <td>-0.001045</td>\n",
       "      <td>-0.034187</td>\n",
       "      <td>0.153054</td>\n",
       "      <td>0.034974</td>\n",
       "      <td>0.351664</td>\n",
       "      <td>0.149957</td>\n",
       "      <td>0.103203</td>\n",
       "      <td>0.042900</td>\n",
       "    </tr>\n",
       "    <tr>\n",
       "      <th>14-3-3_zeta</th>\n",
       "      <td>-0.002074</td>\n",
       "      <td>-0.133746</td>\n",
       "      <td>0.268501</td>\n",
       "      <td>-0.099586</td>\n",
       "      <td>0.274313</td>\n",
       "      <td>0.211939</td>\n",
       "      <td>0.143781</td>\n",
       "      <td>0.167963</td>\n",
       "      <td>0.207375</td>\n",
       "      <td>1.052479</td>\n",
       "      <td>...</td>\n",
       "      <td>-0.289523</td>\n",
       "      <td>-0.481528</td>\n",
       "      <td>-0.220994</td>\n",
       "      <td>-0.163810</td>\n",
       "      <td>-0.383245</td>\n",
       "      <td>-0.317986</td>\n",
       "      <td>-0.168820</td>\n",
       "      <td>0.049888</td>\n",
       "      <td>0.026328</td>\n",
       "      <td>-0.492910</td>\n",
       "    </tr>\n",
       "    <tr>\n",
       "      <th>4E-BP1</th>\n",
       "      <td>-0.026155</td>\n",
       "      <td>-0.358218</td>\n",
       "      <td>0.326340</td>\n",
       "      <td>-0.155025</td>\n",
       "      <td>-0.155358</td>\n",
       "      <td>0.225123</td>\n",
       "      <td>-0.397172</td>\n",
       "      <td>0.253190</td>\n",
       "      <td>0.011756</td>\n",
       "      <td>-0.011091</td>\n",
       "      <td>...</td>\n",
       "      <td>-0.152306</td>\n",
       "      <td>-0.304178</td>\n",
       "      <td>0.184011</td>\n",
       "      <td>-0.100291</td>\n",
       "      <td>-0.949681</td>\n",
       "      <td>-0.035973</td>\n",
       "      <td>0.211097</td>\n",
       "      <td>0.038849</td>\n",
       "      <td>-0.109916</td>\n",
       "      <td>-0.168386</td>\n",
       "    </tr>\n",
       "    <tr>\n",
       "      <th>4E-BP1_pS65</th>\n",
       "      <td>-0.110226</td>\n",
       "      <td>-0.152775</td>\n",
       "      <td>-0.138170</td>\n",
       "      <td>-0.093734</td>\n",
       "      <td>0.118912</td>\n",
       "      <td>-0.315533</td>\n",
       "      <td>0.804923</td>\n",
       "      <td>0.011820</td>\n",
       "      <td>-0.306448</td>\n",
       "      <td>0.427429</td>\n",
       "      <td>...</td>\n",
       "      <td>-0.201527</td>\n",
       "      <td>0.530600</td>\n",
       "      <td>-0.312147</td>\n",
       "      <td>0.257025</td>\n",
       "      <td>2.374363</td>\n",
       "      <td>-0.000493</td>\n",
       "      <td>0.045489</td>\n",
       "      <td>0.117049</td>\n",
       "      <td>-0.378221</td>\n",
       "      <td>-0.315304</td>\n",
       "    </tr>\n",
       "  </tbody>\n",
       "</table>\n",
       "<p>5 rows × 493 columns</p>\n",
       "</div>"
      ],
      "text/plain": [
       "                tcga-3l-aa1b  tcga-4n-a93t  tcga-4t-aa8h  tcga-5m-aat5  \\\n",
       "Sample REF                                                               \n",
       "14-3-3_beta        -0.080528     -0.157540     -0.384060     -0.087426   \n",
       "14-3-3_epsilon      0.055408      0.059789      0.162856     -0.152768   \n",
       "14-3-3_zeta        -0.002074     -0.133746      0.268501     -0.099586   \n",
       "4E-BP1             -0.026155     -0.358218      0.326340     -0.155025   \n",
       "4E-BP1_pS65        -0.110226     -0.152775     -0.138170     -0.093734   \n",
       "\n",
       "                tcga-5m-aat6  tcga-5m-aata  tcga-a6-2671  tcga-a6-2672  \\\n",
       "Sample REF                                                               \n",
       "14-3-3_beta        -0.275405     -0.224685     -0.079293     -0.336623   \n",
       "14-3-3_epsilon     -0.041336     -0.075951     -0.028777     -0.475157   \n",
       "14-3-3_zeta         0.274313      0.211939      0.143781      0.167963   \n",
       "4E-BP1             -0.155358      0.225123     -0.397172      0.253190   \n",
       "4E-BP1_pS65         0.118912     -0.315533      0.804923      0.011820   \n",
       "\n",
       "                tcga-a6-2676  tcga-a6-2677      ...       tcga-f5-6811  \\\n",
       "Sample REF                                      ...                      \n",
       "14-3-3_beta        -0.187790     -0.235185      ...          -0.024839   \n",
       "14-3-3_epsilon     -0.111809     -0.494886      ...           0.049617   \n",
       "14-3-3_zeta         0.207375      1.052479      ...          -0.289523   \n",
       "4E-BP1              0.011756     -0.011091      ...          -0.152306   \n",
       "4E-BP1_pS65        -0.306448      0.427429      ...          -0.201527   \n",
       "\n",
       "                tcga-f5-6812  tcga-f5-6813  tcga-f5-6861  tcga-f5-6863  \\\n",
       "Sample REF                                                               \n",
       "14-3-3_beta         0.632183     -0.237272     -0.023691      0.410173   \n",
       "14-3-3_epsilon      0.176068     -0.001045     -0.034187      0.153054   \n",
       "14-3-3_zeta        -0.481528     -0.220994     -0.163810     -0.383245   \n",
       "4E-BP1             -0.304178      0.184011     -0.100291     -0.949681   \n",
       "4E-BP1_pS65         0.530600     -0.312147      0.257025      2.374363   \n",
       "\n",
       "                tcga-f5-6864  tcga-g5-6233  tcga-g5-6235  tcga-g5-6572  \\\n",
       "Sample REF                                                               \n",
       "14-3-3_beta         0.157596      0.487429      0.052631      0.137889   \n",
       "14-3-3_epsilon      0.034974      0.351664      0.149957      0.103203   \n",
       "14-3-3_zeta        -0.317986     -0.168820      0.049888      0.026328   \n",
       "4E-BP1             -0.035973      0.211097      0.038849     -0.109916   \n",
       "4E-BP1_pS65        -0.000493      0.045489      0.117049     -0.378221   \n",
       "\n",
       "                tcga-g5-6641  \n",
       "Sample REF                    \n",
       "14-3-3_beta         0.044996  \n",
       "14-3-3_epsilon      0.042900  \n",
       "14-3-3_zeta        -0.492910  \n",
       "4E-BP1             -0.168386  \n",
       "4E-BP1_pS65        -0.315304  \n",
       "\n",
       "[5 rows x 493 columns]"
      ]
     },
     "execution_count": 151,
     "metadata": {},
     "output_type": "execute_result"
    }
   ],
   "source": [
    "data=pd.read_csv(\"data/COADREAD.protein_exp__mda_rppa_core__mdanderson_org__Level_3__protein_normalization__data.data.txt\",sep=\"\\t\",index_col=0,skiprows=[1])\n",
    "data.columns=[str.lower(x)[:12] for x in data.columns]\n",
    "data=data.fillna(0)\n",
    "data.head()"
   ]
  },
  {
   "cell_type": "code",
   "execution_count": 152,
   "metadata": {
    "collapsed": true
   },
   "outputs": [],
   "source": [
    "clinical_data_df = pd.read_table('data/clinical/COADREAD.clin.merged.txt', index_col=0,skiprows=16) #import staging\n",
    "patientsToKeep=[x for x in clinical_data_df.columns if \"stage\" in str(clinical_data_df.loc[\"patient.stage_event.pathologic_stage\",x])] # keep patients with data\n",
    "patientsToKeep=[x for x in patientsToKeep if x in data.columns] #keep patients with mRNA data\n",
    "clinical_data_df=clinical_data_df[patientsToKeep] #subset to what we want\n",
    "patClassification={x:clinical_data_df.loc[\"patient.stage_event.pathologic_stage\",x] for x in clinical_data_df.columns} #create lookup table\n",
    "patCellType={x:clinical_data_df.loc[\"patient.tumor_tissue_site\",x] for x in clinical_data_df.columns} #create lookup table\n",
    "data=data[patientsToKeep] #subset to what we want\n",
    "convertStageToNum={\n",
    "'stage i':1,\n",
    " 'stage ia':1.5,\n",
    " 'stage ii':2,\n",
    " 'stage iia':2.25,\n",
    " 'stage iib':2.5,\n",
    " 'stage iic':2.75,\n",
    " 'stage iii':3,\n",
    " 'stage iiia':3.25,\n",
    " 'stage iiib':3.5,\n",
    " 'stage iiic':3.75,\n",
    " 'stage iv':4,\n",
    " 'stage iva':4.33,\n",
    " 'stage ivb':4.66    \n",
    "}"
   ]
  },
  {
   "cell_type": "markdown",
   "metadata": {},
   "source": [
    "### We now need to make 4 sets of data:  training and test for each of the two cell types"
   ]
  },
  {
   "cell_type": "code",
   "execution_count": 163,
   "metadata": {
    "collapsed": false
   },
   "outputs": [],
   "source": [
    "colonData=data[[x for x in data.columns if patCellType[x]==\"colon\"]]\n",
    "rectumData=data[[x for x in data.columns if patCellType[x]==\"rectum\"]]"
   ]
  },
  {
   "cell_type": "markdown",
   "metadata": {},
   "source": [
    "### Right now lets not do bootstrapping and just do a split based on ratios\n",
    "\n",
    "So lets use 6:10 rectum to colon patients\n",
    "\n",
    "Lets also train at a 5:1 rate, so we will train 299 and test 60 for colon and use the proper ratio of rectum"
   ]
  },
  {
   "cell_type": "code",
   "execution_count": 164,
   "metadata": {
    "collapsed": false
   },
   "outputs": [
    {
     "name": "stdout",
     "output_type": "stream",
     "text": [
      "Number of total  patients:478\n",
      "Number of colon  patients:359\n",
      "Number of rectum patients:123\n",
      "Ratio:0.5913461538461539\n"
     ]
    }
   ],
   "source": [
    "print(\"Number of total  patients:\"+str(len(data.columns)))\n",
    "print(\"Number of colon  patients:\"+str(len(colonData.columns)))\n",
    "print(\"Number of rectum patients:\"+str(len(rectumData.columns)))\n",
    "print(\"Ratio:\"+str(len(rectumData.columns)/len(colonData)))"
   ]
  },
  {
   "cell_type": "code",
   "execution_count": 166,
   "metadata": {
    "collapsed": false
   },
   "outputs": [],
   "source": [
    "colonTrain=colonData.iloc[:,[i for i in range(299)]]\n",
    "colonTest=colonData.iloc[:,[i for i in range(299,len(colonData.columns))]]\n",
    "rectumTrain=rectumData.iloc[:,[i for i in range(int(5/6*len(rectumData.columns)))]]\n",
    "rectumTest=rectumData.iloc[:,[i for i in range(int(5/6*len(rectumData.columns)),len(rectumData.columns))]]\n",
    "totalTrain=data.iloc[:,[i for i in range(int(5/6*len(data.columns)))]]\n",
    "totalTest=data.iloc[:,[i for i in range(int(5/6*len(data.columns)),len(data.columns))]]"
   ]
  },
  {
   "cell_type": "code",
   "execution_count": 167,
   "metadata": {
    "collapsed": false
   },
   "outputs": [],
   "source": [
    "colonTrainingLabels=[patClassification[str.lower(x)] for x in colonTrain.columns]\n",
    "colonTrainingLabels=[convertStageToNum[x] for x in colonTrainingLabels]\n",
    "colonTestingLabels=[patClassification[str.lower(x)] for x in colonTest.columns]\n",
    "colonTestingLabels=[convertStageToNum[x] for x in colonTestingLabels]\n",
    "rectumTrainingLabels=[patClassification[str.lower(x)] for x in rectumTrain.columns]\n",
    "rectumTrainingLabels=[convertStageToNum[x] for x in rectumTrainingLabels]\n",
    "rectumTestingLabels=[patClassification[str.lower(x)] for x in rectumTest.columns]\n",
    "rectumTestingLabels=[convertStageToNum[x] for x in rectumTestingLabels]\n",
    "totalTrainingLabels=[patClassification[str.lower(x)] for x in totalTrain.columns]\n",
    "totalTrainingLabels=[convertStageToNum[x] for x in totalTrainingLabels]\n",
    "totalTestingLabels=[patClassification[str.lower(x)] for x in totalTest.columns]\n",
    "totalTestingLabels=[convertStageToNum[x] for x in totalTestingLabels]"
   ]
  },
  {
   "cell_type": "markdown",
   "metadata": {},
   "source": [
    "### Try linear regression"
   ]
  },
  {
   "cell_type": "code",
   "execution_count": 157,
   "metadata": {
    "collapsed": true
   },
   "outputs": [],
   "source": [
    "from sklearn import linear_model"
   ]
  },
  {
   "cell_type": "code",
   "execution_count": 208,
   "metadata": {
    "collapsed": false
   },
   "outputs": [],
   "source": [
    "EN=linear_model.ElasticNetCV(max_iter=10000,fit_intercept=False)"
   ]
  },
  {
   "cell_type": "markdown",
   "metadata": {},
   "source": [
    "##### Colon"
   ]
  },
  {
   "cell_type": "code",
   "execution_count": 229,
   "metadata": {
    "collapsed": false
   },
   "outputs": [],
   "source": [
    "EN=EN.fit(colonTrain.transpose(),colonTrainingLabels)"
   ]
  },
  {
   "cell_type": "code",
   "execution_count": 230,
   "metadata": {
    "collapsed": false
   },
   "outputs": [
    {
     "data": {
      "text/plain": [
       "<matplotlib.axes._subplots.AxesSubplot at 0x7fe3bd429438>"
      ]
     },
     "execution_count": 230,
     "metadata": {},
     "output_type": "execute_result"
    },
    {
     "data": {
      "image/png": "[encoded data removed]",
      "text/plain": [
       "<matplotlib.figure.Figure at 0x7fe3bd42a978>"
      ]
     },
     "metadata": {},
     "output_type": "display_data"
    }
   ],
   "source": [
    "fitTemp=EN.predict(colonTest.transpose())\n",
    "t=pd.DataFrame([(fitTemp[x],colonTestingLabels[x]) for x in range(len(fitTemp))])\n",
    "sns.regplot(x=t[0],y=t[1])"
   ]
  },
  {
   "cell_type": "markdown",
   "metadata": {},
   "source": [
    "##### Rectum"
   ]
  },
  {
   "cell_type": "code",
   "execution_count": 232,
   "metadata": {
    "collapsed": false
   },
   "outputs": [
    {
     "data": {
      "text/plain": [
       "<matplotlib.axes._subplots.AxesSubplot at 0x7fe3bd429dd8>"
      ]
     },
     "execution_count": 232,
     "metadata": {},
     "output_type": "execute_result"
    },
    {
     "data": {
      "image/png": "[encoded data removed]",
      "text/plain": [
       "<matplotlib.figure.Figure at 0x7fe3bd15a208>"
      ]
     },
     "metadata": {},
     "output_type": "display_data"
    }
   ],
   "source": [
    "EN=EN.fit(rectumTrain.transpose(),rectumTrainingLabels)\n",
    "fitTemp=EN.predict(rectumTest.transpose())\n",
    "t=pd.DataFrame([(fitTemp[x],rectumTestingLabels[x]) for x in range(len(fitTemp))])\n",
    "sns.regplot(x=t[0],y=t[1])"
   ]
  },
  {
   "cell_type": "markdown",
   "metadata": {},
   "source": [
    "##### Combined"
   ]
  },
  {
   "cell_type": "code",
   "execution_count": 234,
   "metadata": {
    "collapsed": false
   },
   "outputs": [
    {
     "data": {
      "text/plain": [
       "<matplotlib.axes._subplots.AxesSubplot at 0x7fe3bd48e710>"
      ]
     },
     "execution_count": 234,
     "metadata": {},
     "output_type": "execute_result"
    },
    {
     "data": {
      "image/png": "[encoded data removed]",
      "text/plain": [
       "<matplotlib.figure.Figure at 0x7fe3bd46dc18>"
      ]
     },
     "metadata": {},
     "output_type": "display_data"
    }
   ],
   "source": [
    "EN=EN.fit(totalTrain.transpose(),totalTrainingLabels)\n",
    "fitTemp=EN.predict(totalTest.transpose())\n",
    "t=pd.DataFrame([(fitTemp[x],totalTestingLabels[x]) for x in range(len(fitTemp))])\n",
    "sns.regplot(x=t[1],y=t[0])"
   ]
  },
  {
   "cell_type": "markdown",
   "metadata": {},
   "source": [
    "### Try logistic regression"
   ]
  },
  {
   "cell_type": "markdown",
   "metadata": {},
   "source": [
    "##### Colon"
   ]
  },
  {
   "cell_type": "code",
   "execution_count": 268,
   "metadata": {
    "collapsed": false
   },
   "outputs": [
    {
     "data": {
      "text/plain": [
       "Counter({0: 10, 1: 50})"
      ]
     },
     "execution_count": 268,
     "metadata": {},
     "output_type": "execute_result"
    }
   ],
   "source": [
    "LR=linear_model.LogisticRegression()\n",
    "binaryColonLabels=[0 if x <=1 else 1 for x in colonTrainingLabels]\n",
    "binaryColonTestLabels=[0 if x <=1 else 1 for x in colonTestingLabels]\n",
    "LR.fit(X=colonTrain.transpose(),y=binaryColonLabels)\n",
    "fitTemp=LR.predict(colonTest.transpose())\n",
    "t=pd.DataFrame([(fitTemp[x],binaryColonTestLabels[x]) for x in range(len(fitTemp))])\n",
    "TrueFalse=[1 if t.loc[x,0]==t.loc[x,1] else 0 for x in range(len(t))]\n",
    "Counter(TrueFalse)"
   ]
  },
  {
   "cell_type": "markdown",
   "metadata": {},
   "source": [
    "##### Rectum"
   ]
  },
  {
   "cell_type": "code",
   "execution_count": 269,
   "metadata": {
    "collapsed": false
   },
   "outputs": [
    {
     "data": {
      "text/plain": [
       "Counter({0: 3, 1: 18})"
      ]
     },
     "execution_count": 269,
     "metadata": {},
     "output_type": "execute_result"
    }
   ],
   "source": [
    "LR=linear_model.LogisticRegression()\n",
    "binaryRectumLabels=[0 if x <=1 else 1 for x in rectumTrainingLabels]\n",
    "binaryRectumTestLabels=[0 if x <=1 else 1 for x in rectumTestingLabels]\n",
    "LR.fit(X=rectumTrain.transpose(),y=binaryRectumLabels)\n",
    "fitTemp=LR.predict(rectumTest.transpose())\n",
    "t=pd.DataFrame([(fitTemp[x],binaryRectumTestLabels[x]) for x in range(len(fitTemp))])\n",
    "TrueFalse=[1 if t.loc[x,0]==t.loc[x,1] else 0 for x in range(len(t))]\n",
    "Counter(TrueFalse)"
   ]
  },
  {
   "cell_type": "markdown",
   "metadata": {},
   "source": [
    "##### Total"
   ]
  },
  {
   "cell_type": "code",
   "execution_count": 274,
   "metadata": {
    "collapsed": false
   },
   "outputs": [
    {
     "data": {
      "text/plain": [
       "Counter({0: 17, 1: 63})"
      ]
     },
     "execution_count": 274,
     "metadata": {},
     "output_type": "execute_result"
    }
   ],
   "source": [
    "LR=linear_model.LogisticRegression()\n",
    "binaryTotalLabels=[0 if x <=1 else 1 for x in totalTrainingLabels]\n",
    "binaryTotalTestLabels=[0 if x <=1 else 1 for x in totalTestingLabels]\n",
    "LR.fit(X=totalTrain.transpose(),y=binaryTotalLabels)\n",
    "fitTemp=LR.predict(totalTest.transpose())\n",
    "t=pd.DataFrame([(fitTemp[x],binaryTotalTestLabels[x]) for x in range(len(fitTemp))])\n",
    "TrueFalse=[1 if t.loc[x,0]==t.loc[x,1] else 0 for x in range(len(t))]\n",
    "Counter(TrueFalse)"
   ]
  },
  {
   "cell_type": "markdown",
   "metadata": {},
   "source": [
    "### Try multinomial regression"
   ]
  },
  {
   "cell_type": "code",
   "execution_count": 267,
   "metadata": {
    "collapsed": false
   },
   "outputs": [
    {
     "data": {
      "text/plain": [
       "<matplotlib.axes._subplots.AxesSubplot at 0x7fe3bd031f28>"
      ]
     },
     "execution_count": 267,
     "metadata": {},
     "output_type": "execute_result"
    },
    {
     "data": {
      "image/png": "[encoded data removed]",
      "text/plain": [
       "<matplotlib.figure.Figure at 0x7fe3bcbb9400>"
      ]
     },
     "metadata": {},
     "output_type": "display_data"
    }
   ],
   "source": [
    "LR=linear_model.LogisticRegression(multi_class=\"multinomial\",solver=\"lbfgs\")\n",
    "LR.fit(X=totalTrain.transpose(),y=np.asarray(totalTrainingLabels, dtype=\"|S6\"))\n",
    "fitTemp=LR.predict(totalTest.transpose())\n",
    "t=pd.DataFrame([(fitTemp[x],totalTestingLabels[x]) for x in range(len(fitTemp))])\n",
    "t[0]=[float(x) for x in t[0]]\n",
    "TrueFalse=[1 if t.loc[x,0]==t.loc[x,1] else 0 for x in range(len(t))]\n",
    "Counter(TrueFalse)\n",
    "sns.regplot(t[1],t[0])"
   ]
  },
  {
   "cell_type": "code",
   "execution_count": null,
   "metadata": {
    "collapsed": true
   },
   "outputs": [],
   "source": [
    "# colonTrainingLabels=[patClassification[str.lower(x)] for x in colonTrain.columns]\n",
    "# colonTestingLabels=[patClassification[str.lower(x)] for x in colonTest.columns]\n",
    "# rectumTrainingLabels=[patClassification[str.lower(x)] for x in rectumTrain.columns]\n",
    "# rectumTestingLabels=[patClassification[str.lower(x)] for x in rectumTest.columns]\n",
    "# totalTrainingLabels=[patClassification[str.lower(x)] for x in totalTrain.columns]\n",
    "# totalTestingLabels=[patClassification[str.lower(x)] for x in totalTest.columns]"
   ]
  }
 ],
 "metadata": {
  "kernelspec": {
   "display_name": "Python 3",
   "language": "python",
   "name": "python3"
  },
  "language_info": {
   "codemirror_mode": {
    "name": "ipython",
    "version": 3
   },
   "file_extension": ".py",
   "mimetype": "text/x-python",
   "name": "python",
   "nbconvert_exporter": "python",
   "pygments_lexer": "ipython3",
   "version": "3.5.1"
  }
 },
 "nbformat": 4,
 "nbformat_minor": 0
}
