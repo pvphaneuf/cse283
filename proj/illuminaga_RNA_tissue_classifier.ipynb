{
 "cells": [
  {
   "cell_type": "code",
   "execution_count": 1,
   "metadata": {
    "collapsed": true
   },
   "outputs": [],
   "source": [
    "import pandas as pd\n",
    "import numpy as np\n",
    "import math\n",
    "from collections import OrderedDict"
   ]
  },
  {
   "cell_type": "code",
   "execution_count": 2,
   "metadata": {
    "collapsed": false,
    "scrolled": false
   },
   "outputs": [],
   "source": [
    "# trunc_illuminaga_rna_data has the same illuminaga RNA expression data as that downloaded from \n",
    "# class project website, though the keys in the header of trunc_illuminaga_rna_data.tsv now match\n",
    "# patient.bcr_patient_barcode from the clinical data, which gives use better mapping between the\n",
    "# clinical patients dataset and the RNA dataset.\n",
    "gene_exp = pd.read_table('data/trunc_illuminaga_rna_data.tsv',\n",
    "                                     header=0,\n",
    "                                     index_col=0)"
   ]
  },
  {
   "cell_type": "markdown",
   "metadata": {},
   "source": [
    "## Preprocessing"
   ]
  },
  {
   "cell_type": "markdown",
   "metadata": {},
   "source": [
    "###  Normalize by taking log of FPKM expression values."
   ]
  },
  {
   "cell_type": "code",
   "execution_count": 3,
   "metadata": {
    "collapsed": true
   },
   "outputs": [],
   "source": [
    "log_gene_exp_df = np.log(gene_exp.copy())"
   ]
  },
  {
   "cell_type": "markdown",
   "metadata": {},
   "source": [
    "### Replace all -inf with the smallest logFPKM integral, so that we don't get weird results with the variance."
   ]
  },
  {
   "cell_type": "code",
   "execution_count": 4,
   "metadata": {
    "collapsed": false
   },
   "outputs": [],
   "source": [
    "log_gene_exp_df.replace([np.inf, -np.inf], np.nan, inplace=True)  # must replace all -inf with NaN so that .min() will work.\n",
    "min_fpkm_per_patient = list(log_gene_exp_df.min())\n",
    "min_fpkm = min(min_fpkm_per_patient)\n",
    "fpkm_floor = math.floor(min_fpkm)\n",
    "log_gene_exp_df.replace(np.nan, fpkm_floor, inplace=True)"
   ]
  },
  {
   "cell_type": "markdown",
   "metadata": {},
   "source": [
    "### Take top 2000 genes with highest variance"
   ]
  },
  {
   "cell_type": "code",
   "execution_count": 50,
   "metadata": {
    "collapsed": false
   },
   "outputs": [],
   "source": [
    "log_gene_exp_var_df = log_gene_exp_df.copy()\n",
    "log_gene_exp_var_df['var'] = log_gene_exp_var_df.var(axis=1)\n",
    "filtered_log_gene_exp = log_gene_exp_var_df.sort_values(by='var', ascending=False)[:10000]\n",
    "filtered_log_gene_exp = filtered_log_gene_exp.ix[:, :-1]  # Remove variance column"
   ]
  },
  {
   "cell_type": "markdown",
   "metadata": {},
   "source": [
    "## Formatting Data"
   ]
  },
  {
   "cell_type": "markdown",
   "metadata": {},
   "source": [
    "### Get features and labels"
   ]
  },
  {
   "cell_type": "markdown",
   "metadata": {},
   "source": [
    "#### NOTE: mRNA data patients are a subset of those included in COADREAD.clin.merged.txt"
   ]
  },
  {
   "cell_type": "code",
   "execution_count": 51,
   "metadata": {
    "collapsed": false,
    "scrolled": true
   },
   "outputs": [],
   "source": [
    "clinical_data_df = pd.read_table('data/clinical/COADREAD.clin.merged.txt', index_col=0)"
   ]
  },
  {
   "cell_type": "code",
   "execution_count": 52,
   "metadata": {
    "collapsed": false
   },
   "outputs": [
    {
     "name": "stdout",
     "output_type": "stream",
     "text": [
      "4\n"
     ]
    }
   ],
   "source": [
    "# Don't try to print all contents of patient_dict; too big! Will freeze browser.\n",
    "patient_dict = OrderedDict()\n",
    "patient_dict['colon'] = {}\n",
    "patient_dict['rectum'] = {}\n",
    "\n",
    "tumor_tissue_site_nan_count = 0\n",
    "patient_rna_exp_barcode_nan_count = 0\n",
    "patient_rna_exp_barcode_not_in_rna_dataset_count = 0\n",
    "\n",
    "column_header_list = list(clinical_data_df.columns.values)\n",
    "for column_header in column_header_list:\n",
    "\n",
    "    tumor_tissue_site = str(clinical_data_df.loc[\"patient.tumor_tissue_site\"][column_header])\n",
    "    if tumor_tissue_site != \"nan\":  # We only want patients which have a label.\n",
    "        \n",
    "        bcr_patient_barcode = clinical_data_df.loc[\"patient.bcr_patient_barcode\"][column_header]\n",
    "        bcr_patient_barcode = bcr_patient_barcode.upper()\n",
    "        \n",
    "        if bcr_patient_barcode in filtered_log_gene_exp.keys():\n",
    "            patient_exp_list = list(filtered_log_gene_exp[bcr_patient_barcode])\n",
    "            patient_dict[tumor_tissue_site][bcr_patient_barcode] = patient_exp_list\n",
    "            \n",
    "    # investigating quality of my data mapping\n",
    "    else:\n",
    "        tumor_tissue_site_nan_count += 1\n",
    "\n",
    "print(tumor_tissue_site_nan_count)"
   ]
  },
  {
   "cell_type": "markdown",
   "metadata": {},
   "source": [
    "#### Balancing training set between colon and rectum tissue."
   ]
  },
  {
   "cell_type": "code",
   "execution_count": 53,
   "metadata": {
    "collapsed": false
   },
   "outputs": [
    {
     "name": "stdout",
     "output_type": "stream",
     "text": [
      "71\n",
      "190\n"
     ]
    }
   ],
   "source": [
    "print(len(patient_dict['rectum']))\n",
    "print(len(patient_dict['colon']))"
   ]
  },
  {
   "cell_type": "code",
   "execution_count": 54,
   "metadata": {
    "collapsed": false
   },
   "outputs": [
    {
     "name": "stdout",
     "output_type": "stream",
     "text": [
      "120\n",
      "141\n"
     ]
    }
   ],
   "source": [
    "rectum_dict = patient_dict['rectum']\n",
    "training_feature_list = list(rectum_dict.values())[:60]\n",
    "training_label_list = ['rectum' ] * len(training_feature_list)\n",
    "\n",
    "testing_feature_list = list(rectum_dict.values())[60:]\n",
    "testing_label_list = ['rectum'] * len(testing_feature_list)\n",
    "\n",
    "\n",
    "colon_dict = patient_dict['colon']\n",
    "training_feature_list += list(colon_dict.values())[:60]\n",
    "training_label_list += ['colon' ] * len(list(colon_dict.values())[:60])\n",
    "\n",
    "testing_feature_list += list(colon_dict.values())[60:]\n",
    "testing_label_list += ['colon'] * len(list(colon_dict.values())[60:])\n",
    "\n",
    "print(len(training_feature_list))\n",
    "print(len(testing_feature_list))"
   ]
  },
  {
   "cell_type": "markdown",
   "metadata": {
    "collapsed": true
   },
   "source": [
    "## Classification"
   ]
  },
  {
   "cell_type": "code",
   "execution_count": 55,
   "metadata": {
    "collapsed": true
   },
   "outputs": [],
   "source": [
    "from sklearn.svm import SVC"
   ]
  },
  {
   "cell_type": "code",
   "execution_count": 56,
   "metadata": {
    "collapsed": false
   },
   "outputs": [
    {
     "data": {
      "text/plain": [
       "SVC(C=1.0, cache_size=200, class_weight=None, coef0=0.0,\n",
       "  decision_function_shape=None, degree=3, gamma='auto', kernel='rbf',\n",
       "  max_iter=-1, probability=False, random_state=None, shrinking=True,\n",
       "  tol=0.001, verbose=False)"
      ]
     },
     "execution_count": 56,
     "metadata": {},
     "output_type": "execute_result"
    }
   ],
   "source": [
    "svm_classifier = SVC()\n",
    "svm_classifier.fit(training_feature_list, training_label_list)"
   ]
  },
  {
   "cell_type": "code",
   "execution_count": 57,
   "metadata": {
    "collapsed": true
   },
   "outputs": [],
   "source": [
    "training_predictions = svm_classifier.predict(training_feature_list)\n",
    "testing_predictions = svm_classifier.predict(testing_feature_list)"
   ]
  },
  {
   "cell_type": "code",
   "execution_count": 58,
   "metadata": {
    "collapsed": false
   },
   "outputs": [
    {
     "data": {
      "text/plain": [
       "array(['rectum', 'colon', 'colon', 'rectum', 'rectum', 'rectum', 'rectum',\n",
       "       'rectum', 'colon', 'rectum', 'colon', 'rectum', 'colon', 'colon',\n",
       "       'colon', 'rectum', 'rectum', 'colon', 'colon', 'colon', 'colon',\n",
       "       'colon', 'rectum', 'rectum', 'rectum', 'rectum', 'colon', 'colon',\n",
       "       'colon', 'colon', 'rectum', 'colon', 'rectum', 'rectum', 'colon',\n",
       "       'rectum', 'rectum', 'colon', 'colon', 'rectum', 'colon', 'colon',\n",
       "       'rectum', 'colon', 'colon', 'rectum', 'colon', 'colon', 'colon',\n",
       "       'colon', 'colon', 'colon', 'colon', 'rectum', 'colon', 'rectum',\n",
       "       'colon', 'colon', 'colon', 'rectum', 'colon', 'colon', 'colon',\n",
       "       'colon', 'colon', 'colon', 'colon', 'colon', 'colon', 'colon',\n",
       "       'colon', 'colon', 'colon', 'colon', 'colon', 'colon', 'colon',\n",
       "       'colon', 'colon', 'rectum', 'rectum', 'rectum', 'rectum', 'colon',\n",
       "       'colon', 'colon', 'colon', 'colon', 'colon', 'colon', 'rectum',\n",
       "       'rectum', 'rectum', 'colon', 'colon', 'rectum', 'rectum', 'rectum',\n",
       "       'colon', 'colon', 'colon', 'rectum', 'rectum', 'colon', 'colon',\n",
       "       'colon', 'rectum', 'rectum', 'colon', 'colon', 'colon', 'colon',\n",
       "       'colon', 'colon', 'colon', 'colon', 'colon', 'colon', 'colon',\n",
       "       'rectum', 'colon', 'colon', 'colon', 'colon', 'colon', 'colon',\n",
       "       'colon', 'colon', 'rectum', 'rectum', 'rectum', 'colon', 'colon',\n",
       "       'colon', 'colon', 'colon', 'colon', 'colon', 'rectum', 'rectum',\n",
       "       'colon'], \n",
       "      dtype='<U6')"
      ]
     },
     "execution_count": 58,
     "metadata": {},
     "output_type": "execute_result"
    }
   ],
   "source": [
    "# We don't want all predictions to simply be the same. We want variety in our predictions.\n",
    "testing_predictions"
   ]
  },
  {
   "cell_type": "code",
   "execution_count": 59,
   "metadata": {
    "collapsed": false
   },
   "outputs": [
    {
     "data": {
      "text/plain": [
       "array(['rectum', 'rectum', 'rectum', 'rectum', 'rectum', 'rectum',\n",
       "       'rectum', 'rectum', 'rectum', 'rectum', 'rectum', 'colon', 'colon',\n",
       "       'colon', 'colon', 'colon', 'colon', 'colon', 'colon', 'colon',\n",
       "       'colon', 'colon', 'colon', 'colon', 'colon', 'colon', 'colon',\n",
       "       'colon', 'colon', 'colon', 'colon', 'colon', 'colon', 'colon',\n",
       "       'colon', 'colon', 'colon', 'colon', 'colon', 'colon', 'colon',\n",
       "       'colon', 'colon', 'colon', 'colon', 'colon', 'colon', 'colon',\n",
       "       'colon', 'colon', 'colon', 'colon', 'colon', 'colon', 'colon',\n",
       "       'colon', 'colon', 'colon', 'colon', 'colon', 'colon', 'colon',\n",
       "       'colon', 'colon', 'colon', 'colon', 'colon', 'colon', 'colon',\n",
       "       'colon', 'colon', 'colon', 'colon', 'colon', 'colon', 'colon',\n",
       "       'colon', 'colon', 'colon', 'colon', 'colon', 'colon', 'colon',\n",
       "       'colon', 'colon', 'colon', 'colon', 'colon', 'colon', 'colon',\n",
       "       'colon', 'colon', 'colon', 'colon', 'colon', 'colon', 'colon',\n",
       "       'colon', 'colon', 'colon', 'colon', 'colon', 'colon', 'colon',\n",
       "       'colon', 'colon', 'colon', 'colon', 'colon', 'colon', 'colon',\n",
       "       'colon', 'colon', 'colon', 'colon', 'colon', 'colon', 'colon',\n",
       "       'colon', 'colon', 'colon', 'colon', 'colon', 'colon', 'colon',\n",
       "       'colon', 'colon', 'colon', 'colon', 'colon', 'colon', 'colon',\n",
       "       'colon', 'colon', 'colon', 'colon', 'colon', 'colon', 'colon',\n",
       "       'colon', 'colon'], \n",
       "      dtype='<U6')"
      ]
     },
     "execution_count": 59,
     "metadata": {},
     "output_type": "execute_result"
    }
   ],
   "source": [
    "np.array(testing_label_list)"
   ]
  },
  {
   "cell_type": "markdown",
   "metadata": {},
   "source": [
    "### Investigate Classification Statistics"
   ]
  },
  {
   "cell_type": "code",
   "execution_count": 60,
   "metadata": {
    "collapsed": true
   },
   "outputs": [],
   "source": [
    "def get_accuracy(label_list, predictions):\n",
    "    correct_predictionscount = sum([a == b for (a,b) in zip(label_list, predictions)])\n",
    "    return float(correct_predictionscount)/len(predictions)"
   ]
  },
  {
   "cell_type": "code",
   "execution_count": 61,
   "metadata": {
    "collapsed": false
   },
   "outputs": [
    {
     "name": "stdout",
     "output_type": "stream",
     "text": [
      "0.7021276595744681\n"
     ]
    }
   ],
   "source": [
    "print(get_accuracy(testing_label_list, testing_predictions))"
   ]
  },
  {
   "cell_type": "code",
   "execution_count": 67,
   "metadata": {
    "collapsed": true
   },
   "outputs": [],
   "source": [
    "def get_class_accuracy(class_name, label_list, predictions):\n",
    "    correct_prediction_count = 0\n",
    "    class_count = 0\n",
    "    for index in range(0, len(label_list)):\n",
    "        if label_list[index] == class_name:\n",
    "            class_count += 1\n",
    "            if predictions[index] == label_list[index]:\n",
    "                correct_prediction_count += 1    \n",
    "    return correct_prediction_count/class_count"
   ]
  },
  {
   "cell_type": "code",
   "execution_count": 68,
   "metadata": {
    "collapsed": false
   },
   "outputs": [
    {
     "data": {
      "text/plain": [
       "0.6363636363636364"
      ]
     },
     "execution_count": 68,
     "metadata": {},
     "output_type": "execute_result"
    }
   ],
   "source": [
    "get_class_accuracy('rectum', testing_label_list, testing_predictions)"
   ]
  },
  {
   "cell_type": "code",
   "execution_count": 69,
   "metadata": {
    "collapsed": false
   },
   "outputs": [
    {
     "data": {
      "text/plain": [
       "0.7076923076923077"
      ]
     },
     "execution_count": 69,
     "metadata": {},
     "output_type": "execute_result"
    }
   ],
   "source": [
    "get_class_accuracy('colon', testing_label_list, testing_predictions)"
   ]
  },
  {
   "cell_type": "code",
   "execution_count": 70,
   "metadata": {
    "collapsed": true
   },
   "outputs": [],
   "source": [
    "def get_average_per_class_accuracy(testing_label_list, testing_predictions):\n",
    "    rectum_acc = get_class_accuracy('rectum', testing_label_list, testing_predictions)\n",
    "    colon_acc = get_class_accuracy('colon', testing_label_list, testing_predictions)\n",
    "    return (rectum_acc + colon_acc) / 2"
   ]
  },
  {
   "cell_type": "code",
   "execution_count": 71,
   "metadata": {
    "collapsed": false
   },
   "outputs": [
    {
     "data": {
      "text/plain": [
       "0.672027972027972"
      ]
     },
     "execution_count": 71,
     "metadata": {},
     "output_type": "execute_result"
    }
   ],
   "source": [
    "get_average_per_class_accuracy(testing_label_list, testing_predictions)"
   ]
  },
  {
   "cell_type": "code",
   "execution_count": null,
   "metadata": {
    "collapsed": true
   },
   "outputs": [],
   "source": []
  }
 ],
 "metadata": {
  "kernelspec": {
   "display_name": "Python 3",
   "language": "python",
   "name": "python3"
  },
  "language_info": {
   "codemirror_mode": {
    "name": "ipython",
    "version": 3
   },
   "file_extension": ".py",
   "mimetype": "text/x-python",
   "name": "python",
   "nbconvert_exporter": "python",
   "pygments_lexer": "ipython3",
   "version": "3.5.1"
  }
 },
 "nbformat": 4,
 "nbformat_minor": 0
}
