{
 "cells": [
  {
   "cell_type": "code",
   "execution_count": 2,
   "metadata": {
    "collapsed": true
   },
   "outputs": [],
   "source": [
    "import pandas as pd"
   ]
  },
  {
   "cell_type": "code",
   "execution_count": 9,
   "metadata": {
    "collapsed": false
   },
   "outputs": [],
   "source": [
    "classification_output = pd.read_table('data/combined_patient_classification.tsv',\n",
    "                                     header=0,\n",
    "                                     index_col=0)"
   ]
  },
  {
   "cell_type": "code",
   "execution_count": 10,
   "metadata": {
    "collapsed": false
   },
   "outputs": [
    {
     "data": {
      "text/html": [
       "<div>\n",
       "<table border=\"1\" class=\"dataframe\">\n",
       "  <thead>\n",
       "    <tr style=\"text-align: right;\">\n",
       "      <th></th>\n",
       "      <th>TCGA-AG-3732</th>\n",
       "      <th>TCGA-AF-2691</th>\n",
       "      <th>TCGA-AG-3611</th>\n",
       "      <th>TCGA-EI-6511</th>\n",
       "      <th>TCGA-AG-3742</th>\n",
       "      <th>TCGA-F5-6811</th>\n",
       "      <th>TCGA-G5-6235</th>\n",
       "      <th>TCGA-AG-3898</th>\n",
       "      <th>TCGA-G5-6572</th>\n",
       "      <th>TCGA-AG-A01Y</th>\n",
       "      <th>...</th>\n",
       "      <th>TCGA-AA-3979</th>\n",
       "      <th>TCGA-AA-3511</th>\n",
       "      <th>TCGA-D5-6530</th>\n",
       "      <th>TCGA-AA-3544</th>\n",
       "      <th>TCGA-AA-3952</th>\n",
       "      <th>TCGA-AA-A00R</th>\n",
       "      <th>TCGA-G4-6295</th>\n",
       "      <th>TCGA-AA-3956</th>\n",
       "      <th>TCGA-A6-6138</th>\n",
       "      <th>TCGA-AA-3554</th>\n",
       "    </tr>\n",
       "  </thead>\n",
       "  <tbody>\n",
       "    <tr>\n",
       "      <th>0</th>\n",
       "      <td>rectum</td>\n",
       "      <td>rectum</td>\n",
       "      <td>rectum</td>\n",
       "      <td>rectum</td>\n",
       "      <td>rectum</td>\n",
       "      <td>rectum</td>\n",
       "      <td>rectum</td>\n",
       "      <td>rectum</td>\n",
       "      <td>rectum</td>\n",
       "      <td>rectum</td>\n",
       "      <td>...</td>\n",
       "      <td>colon</td>\n",
       "      <td>colon</td>\n",
       "      <td>colon</td>\n",
       "      <td>colon</td>\n",
       "      <td>colon</td>\n",
       "      <td>colon</td>\n",
       "      <td>colon</td>\n",
       "      <td>colon</td>\n",
       "      <td>rectum</td>\n",
       "      <td>colon</td>\n",
       "    </tr>\n",
       "  </tbody>\n",
       "</table>\n",
       "<p>1 rows × 618 columns</p>\n",
       "</div>"
      ],
      "text/plain": [
       "  TCGA-AG-3732 TCGA-AF-2691 TCGA-AG-3611 TCGA-EI-6511 TCGA-AG-3742  \\\n",
       "0       rectum       rectum       rectum       rectum       rectum   \n",
       "\n",
       "  TCGA-F5-6811 TCGA-G5-6235 TCGA-AG-3898 TCGA-G5-6572 TCGA-AG-A01Y  \\\n",
       "0       rectum       rectum       rectum       rectum       rectum   \n",
       "\n",
       "      ...      TCGA-AA-3979 TCGA-AA-3511 TCGA-D5-6530 TCGA-AA-3544  \\\n",
       "0     ...             colon        colon        colon        colon   \n",
       "\n",
       "  TCGA-AA-3952 TCGA-AA-A00R TCGA-G4-6295 TCGA-AA-3956 TCGA-A6-6138  \\\n",
       "0        colon        colon        colon        colon       rectum   \n",
       "\n",
       "  TCGA-AA-3554  \n",
       "0        colon  \n",
       "\n",
       "[1 rows x 618 columns]"
      ]
     },
     "execution_count": 10,
     "metadata": {},
     "output_type": "execute_result"
    }
   ],
   "source": [
    "classification_output"
   ]
  },
  {
   "cell_type": "code",
   "execution_count": null,
   "metadata": {
    "collapsed": true
   },
   "outputs": [],
   "source": []
  }
 ],
 "metadata": {
  "kernelspec": {
   "display_name": "Python 3",
   "language": "python",
   "name": "python3"
  },
  "language_info": {
   "codemirror_mode": {
    "name": "ipython",
    "version": 3
   },
   "file_extension": ".py",
   "mimetype": "text/x-python",
   "name": "python",
   "nbconvert_exporter": "python",
   "pygments_lexer": "ipython3",
   "version": "3.5.1"
  }
 },
 "nbformat": 4,
 "nbformat_minor": 0
}
