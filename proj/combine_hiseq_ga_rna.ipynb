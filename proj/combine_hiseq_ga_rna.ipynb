{
 "cells": [
  {
   "cell_type": "code",
   "execution_count": 5,
   "metadata": {
    "collapsed": true
   },
   "outputs": [],
   "source": [
    "import pandas as pd"
   ]
  },
  {
   "cell_type": "code",
   "execution_count": 6,
   "metadata": {
    "collapsed": false
   },
   "outputs": [],
   "source": [
    "trunc_hiseq_rna_df = pd.read_table('data/trunc_illuminahiseq_rna_data.tsv', header=0, skiprows=[1], index_col=0)\n",
    "trunc_ga_rna_df = pd.read_table('data/trunc_illuminaga_rna_data.tsv', header=0, skiprows=[1], index_col=0)\n",
    "clinical_df = pd.read_table('data/clinical/COADREAD.clin.merged.txt', index_col=0)"
   ]
  },
  {
   "cell_type": "markdown",
   "metadata": {},
   "source": [
    "### Get a set of patients that we know is in the clinical data"
   ]
  },
  {
   "cell_type": "code",
   "execution_count": 7,
   "metadata": {
    "collapsed": false
   },
   "outputs": [],
   "source": [
    "clinical_patient_list = []\n",
    "column_header_list = list(clinical_df.columns.values)\n",
    "for column_header in column_header_list:\n",
    "    clinical_patient_list.append(clinical_df.loc[\"patient.bcr_patient_barcode\"][column_header].upper()) \n",
    "    \n",
    "clinical_patient_set = set(clinical_patient_list)"
   ]
  },
  {
   "cell_type": "code",
   "execution_count": 22,
   "metadata": {
    "collapsed": false
   },
   "outputs": [
    {
     "data": {
      "text/plain": [
       "263"
      ]
     },
     "execution_count": 22,
     "metadata": {},
     "output_type": "execute_result"
    }
   ],
   "source": [
    "hiseq_patient_set = set(list(trunc_hiseq_rna_df.columns.values))\n",
    "ga_patient_set = set(list(trunc_ga_rna_df.columns.values))\n",
    "len(ga_patient_set)"
   ]
  },
  {
   "cell_type": "markdown",
   "metadata": {},
   "source": [
    "#### NOTE: We're defaulting to GA RNA patient data over Hiseq RNA"
   ]
  },
  {
   "cell_type": "code",
   "execution_count": 21,
   "metadata": {
    "collapsed": false
   },
   "outputs": [
    {
     "data": {
      "text/plain": [
       "359"
      ]
     },
     "execution_count": 21,
     "metadata": {},
     "output_type": "execute_result"
    }
   ],
   "source": [
    "hiseq_clinical_shared_set = hiseq_patient_set & clinical_patient_set\n",
    "unique_hiseq_clinical_shared_set = hiseq_clinical_shared_set - ga_patient_set\n",
    "len(unique_hiseq_clinical_shared_set)"
   ]
  },
  {
   "cell_type": "markdown",
   "metadata": {},
   "source": [
    "#### How many patients GA and RNA share?"
   ]
  },
  {
   "cell_type": "code",
   "execution_count": 26,
   "metadata": {
    "collapsed": false
   },
   "outputs": [
    {
     "data": {
      "text/plain": [
       "37"
      ]
     },
     "execution_count": 26,
     "metadata": {},
     "output_type": "execute_result"
    }
   ],
   "source": [
    "len(hiseq_patient_set & ga_patient_set)"
   ]
  },
  {
   "cell_type": "markdown",
   "metadata": {},
   "source": [
    "### Combine"
   ]
  },
  {
   "cell_type": "code",
   "execution_count": 23,
   "metadata": {
    "collapsed": false,
    "scrolled": true
   },
   "outputs": [],
   "source": [
    "combined_rna_df = trunc_ga_rna_df.copy()\n",
    "for patient in unique_hiseq_clinical_shared_set:\n",
    "    combined_rna_df[patient] = trunc_hiseq_rna_df[patient]"
   ]
  },
  {
   "cell_type": "code",
   "execution_count": 24,
   "metadata": {
    "collapsed": false,
    "scrolled": true
   },
   "outputs": [
    {
     "data": {
      "text/plain": [
       "622"
      ]
     },
     "execution_count": 24,
     "metadata": {},
     "output_type": "execute_result"
    }
   ],
   "source": [
    "len(combined_rna_df.columns)"
   ]
  },
  {
   "cell_type": "code",
   "execution_count": 27,
   "metadata": {
    "collapsed": true
   },
   "outputs": [],
   "source": [
    "combined_rna_df.to_csv('data/trunc_combined_rna_data.tsv', sep='\\t')"
   ]
  },
  {
   "cell_type": "code",
   "execution_count": null,
   "metadata": {
    "collapsed": true
   },
   "outputs": [],
   "source": []
  }
 ],
 "metadata": {
  "kernelspec": {
   "display_name": "Python 3",
   "language": "python",
   "name": "python3"
  },
  "language_info": {
   "codemirror_mode": {
    "name": "ipython",
    "version": 3
   },
   "file_extension": ".py",
   "mimetype": "text/x-python",
   "name": "python",
   "nbconvert_exporter": "python",
   "pygments_lexer": "ipython3",
   "version": "3.5.1"
  }
 },
 "nbformat": 4,
 "nbformat_minor": 0
}
