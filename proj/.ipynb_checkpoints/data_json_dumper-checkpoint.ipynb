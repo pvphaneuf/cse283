{
 "cells": [
  {
   "cell_type": "code",
   "execution_count": 26,
   "metadata": {
    "collapsed": true
   },
   "outputs": [],
   "source": [
    "import pandas as pd"
   ]
  },
  {
   "cell_type": "code",
   "execution_count": 43,
   "metadata": {
    "collapsed": true
   },
   "outputs": [],
   "source": [
    "data = pd.read_table('data/clinical/COADREAD.clin.merged.txt', index_col=0)"
   ]
  },
  {
   "cell_type": "markdown",
   "metadata": {},
   "source": [
    "### Sample IDs currently using"
   ]
  },
  {
   "cell_type": "markdown",
   "metadata": {},
   "source": [
    "### Other possible stage and tissue type rows:\n",
    "#### patient.tumor_stage\n",
    "#### patient.tumor_tissue_site"
   ]
  },
  {
   "cell_type": "markdown",
   "metadata": {},
   "source": [
    "### dumping to json for convenience"
   ]
  },
  {
   "cell_type": "code",
   "execution_count": 47,
   "metadata": {
    "collapsed": false
   },
   "outputs": [],
   "source": [
    "output_dict = {}\n",
    "column_header_list = list(data.columns.values)\n",
    "for column_header in column_header_list:\n",
    "    bcr_patient_barcode = data.loc[\"patient.bcr_patient_barcode\"][column_header]\n",
    "    pathologic_stage = data.loc[\"patient.stage_event.pathologic_stage\"][column_header]\n",
    "    tumor_tissue_site = data.loc[\"patient.tumor_tissue_site\"][column_header]\n",
    "    output_dict[bcr_patient_barcode] = {'pathologic_stage': pathologic_stage, 'tumor_tissue_site': tumor_tissue_site}"
   ]
  },
  {
   "cell_type": "code",
   "execution_count": 51,
   "metadata": {
    "collapsed": true
   },
   "outputs": [],
   "source": [
    "import json\n",
    "with open('data/sample_stage_tissue.json', 'w') as fp:\n",
    "    json.dump(output_dict, fp)"
   ]
  },
  {
   "cell_type": "code",
   "execution_count": null,
   "metadata": {
    "collapsed": true
   },
   "outputs": [],
   "source": []
  }
 ],
 "metadata": {
  "kernelspec": {
   "display_name": "Python 3",
   "language": "python",
   "name": "python3"
  },
  "language_info": {
   "codemirror_mode": {
    "name": "ipython",
    "version": 3
   },
   "file_extension": ".py",
   "mimetype": "text/x-python",
   "name": "python",
   "nbconvert_exporter": "python",
   "pygments_lexer": "ipython3",
   "version": "3.5.1"
  }
 },
 "nbformat": 4,
 "nbformat_minor": 0
}
